{
 "cells": [
  {
   "cell_type": "code",
   "execution_count": 2,
   "metadata": {},
   "outputs": [],
   "source": [
    "#importing the pymatgen library, parsing the API key and querying the database for the perovskite\n",
    "#antiperovskite, transition metal carbides and transition metal nitrides data\n",
    "from pymatgen import MPRester\n",
    "import pandas as pd\n",
    "m = MPRester('FImzw6RhEAMS1TVx')\n",
    "perovskites_data = m.query(criteria={'formula_anonymous':\"ABC3\", 'elements':{'$in':['Ba','Sr', 'Ca'], \"$all\": ['Ti',\"O\"]}}, properties=['task_id', 'pretty_formula'])\n",
    "anti_perovskites_data = m.query(criteria={'formula_anonymous':\"A3BC\", 'elements':{'$in':['Ba','Sr', 'Ca'], \"$all\": ['Sn',\"O\"]}}, properties=['task_id', 'pretty_formula'])\n",
    "tmcs = m.query(criteria={'formula_anonymous':\"AB\", 'elements':{'$in':['Y','Zr', 'Nb', 'Mo', 'Tc', 'Ru', 'Rb', 'Pd', 'Ag', 'Cd'], \"$all\": [\"C\"]}}, properties=['task_id', 'pretty_formula'])\n",
    "tmns = m.query(criteria={'formula_anonymous':\"AB\", 'elements':{'$in':['Y','Zr', 'Nb', 'Mo', 'Tc', 'Ru', 'Rb', 'Pd', 'Ag', 'Cd'], \"$all\": [\"N\"]}}, properties=['task_id', 'pretty_formula'])\n"
   ]
  },
  {
   "cell_type": "code",
   "execution_count": 3,
   "metadata": {},
   "outputs": [
    {
     "data": {
      "text/html": [
       "<div>\n",
       "<style scoped>\n",
       "    .dataframe tbody tr th:only-of-type {\n",
       "        vertical-align: middle;\n",
       "    }\n",
       "\n",
       "    .dataframe tbody tr th {\n",
       "        vertical-align: top;\n",
       "    }\n",
       "\n",
       "    .dataframe thead th {\n",
       "        text-align: right;\n",
       "    }\n",
       "</style>\n",
       "<table border=\"1\" class=\"dataframe\">\n",
       "  <thead>\n",
       "    <tr style=\"text-align: right;\">\n",
       "      <th></th>\n",
       "      <th>task_id</th>\n",
       "      <th>pretty_formula</th>\n",
       "    </tr>\n",
       "  </thead>\n",
       "  <tbody>\n",
       "    <tr>\n",
       "      <th>0</th>\n",
       "      <td>mp-558125</td>\n",
       "      <td>BaTiO3</td>\n",
       "    </tr>\n",
       "    <tr>\n",
       "      <th>2</th>\n",
       "      <td>mp-5777</td>\n",
       "      <td>BaTiO3</td>\n",
       "    </tr>\n",
       "    <tr>\n",
       "      <th>5</th>\n",
       "      <td>mp-2998</td>\n",
       "      <td>BaTiO3</td>\n",
       "    </tr>\n",
       "    <tr>\n",
       "      <th>6</th>\n",
       "      <td>mp-1076932</td>\n",
       "      <td>BaTiO3</td>\n",
       "    </tr>\n",
       "    <tr>\n",
       "      <th>9</th>\n",
       "      <td>mp-504715</td>\n",
       "      <td>BaTiO3</td>\n",
       "    </tr>\n",
       "  </tbody>\n",
       "</table>\n",
       "</div>"
      ],
      "text/plain": [
       "      task_id pretty_formula\n",
       "0   mp-558125         BaTiO3\n",
       "2     mp-5777         BaTiO3\n",
       "5     mp-2998         BaTiO3\n",
       "6  mp-1076932         BaTiO3\n",
       "9   mp-504715         BaTiO3"
      ]
     },
     "execution_count": 3,
     "metadata": {},
     "output_type": "execute_result"
    }
   ],
   "source": [
    "#here we focus on perovskites to extract their data....specifically on BaTiO3 for comparison purposes.\n",
    "perovskites_df = pd.DataFrame(perovskites_data)\n",
    "batio3 = perovskites_df[perovskites_df['pretty_formula'] == 'BaTiO3']\n",
    "batio3.head()"
   ]
  },
  {
   "cell_type": "code",
   "execution_count": 15,
   "metadata": {},
   "outputs": [
    {
     "name": "stdout",
     "output_type": "stream",
     "text": [
      "[{'final_energy': -240.25174602, 'band_gap': 2.0811, 'density': 5.615825036499397}]\n",
      "[{'final_energy': -40.05616901, 'band_gap': 2.3732999999999995, 'density': 5.713375576803297}]\n",
      "[{'final_energy': -39.98479531, 'band_gap': 1.7252, 'density': 5.891749389677846}]\n",
      "[{'final_energy': -35.16345807, 'band_gap': 0.0, 'density': 3.0767215794609353}]\n",
      "[{'final_energy': -24.6417105, 'band_gap': 0.0, 'density': 3.8533977810600533}]\n",
      "[{'final_energy': -31.02546215, 'band_gap': 0.0, 'density': 4.531153196471881}]\n",
      "[{'final_energy': -31.02144054, 'band_gap': 0.0, 'density': 4.546800709110376}]\n",
      "[{'final_energy': -36.48737687, 'band_gap': 0.5466, 'density': 3.4715162776032877}]\n",
      "[{'final_energy': -240.09912109, 'band_gap': 1.7260999999999997, 'density': 5.681509364183071}]\n",
      "[{'final_energy': -40.05853491, 'band_gap': 2.6212, 'density': 5.696967707935742}]\n",
      "[{'final_energy': -40.04249803, 'band_gap': 1.8297999999999996, 'density': 5.748582891575844}]\n"
     ]
    }
   ],
   "source": [
    "#now we extract iterate through the batio3 df to slice out the taskid and use to query different material properties\n",
    "ids= batio3.task_id.unique()\n",
    "for i in ids:\n",
    "    mat_property = m.query(criteria={'task_id':i}, properties=['final_energy', 'band_gap', 'density'])\n",
    "    print(mat_property)"
   ]
  },
  {
   "cell_type": "markdown",
   "metadata": {},
   "source": [
    "Success:\n",
    "The output above has now been found to be consistent with what is in the materials website\n",
    "Challenges:\n",
    "The result above is in a list format that I haven't interacted with before. Am therefore finding it challenging to modify the data-type of the output so that it can be intergrated into the batio3 dataframe for ease of access. "
   ]
  },
  {
   "cell_type": "code",
   "execution_count": 16,
   "metadata": {},
   "outputs": [],
   "source": [
    "#the cells that follow can be properly implemented once the above challenge is resolved"
   ]
  },
  {
   "cell_type": "code",
   "execution_count": null,
   "metadata": {},
   "outputs": [],
   "source": [
    "ids = perovskites_df.task_id.unique()\n",
    "for i in ids:\n",
    "    properties = m.query(criteria={'task_id': i}, properties=['final_energy', 'band_gap', 'density', 'energy_per_atom', 'poisson_ratio'])\n",
    "    properties = pd.DataFrame(properties)\n",
    "    properties = pd.DataFrame(properties)\n",
    "    perovskites_df['final_energy'] = properties.final_energy\n",
    "    \n",
    "    perovskites_df['band_gap'] = properties.band_gap\n",
    "    perovskites_df['density'] = properties.density\n",
    "    perovskites_df['energy'] = properties.energy_per_atom\n",
    "    perovskites_df['poisson_ratio'] = properties.poisson_ratio\n",
    "perovskites_df.head()\n",
    "    "
   ]
  },
  {
   "cell_type": "code",
   "execution_count": null,
   "metadata": {},
   "outputs": [],
   "source": []
  }
 ],
 "metadata": {
  "kernelspec": {
   "display_name": "Python 3",
   "language": "python",
   "name": "python3"
  },
  "language_info": {
   "codemirror_mode": {
    "name": "ipython",
    "version": 3
   },
   "file_extension": ".py",
   "mimetype": "text/x-python",
   "name": "python",
   "nbconvert_exporter": "python",
   "pygments_lexer": "ipython3",
   "version": "3.6.9"
  }
 },
 "nbformat": 4,
 "nbformat_minor": 4
}
